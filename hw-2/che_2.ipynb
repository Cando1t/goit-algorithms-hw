{
 "cells": [
  {
   "cell_type": "code",
   "execution_count": 27,
   "metadata": {},
   "outputs": [
    {
     "name": "stdout",
     "output_type": "stream",
     "text": [
      "ada\n",
      "паліндром\n"
     ]
    }
   ],
   "source": [
    "from collections import deque\n",
    "\n",
    "\n",
    "def is_palindrom (rydok):\n",
    "    d = deque()\n",
    "    txt = rydok.lower()\n",
    "    print (txt)\n",
    "    for i in range(len(txt)):\n",
    "        d.append(txt[i])\n",
    "    selector=0 # для виводу паліндром\n",
    "    for j in range(len(txt)):\n",
    "        if list(d)[j] != list(reversed(d))[j]:\n",
    "           selector=1\n",
    "           print(\"не паліндром\")\n",
    "           break\n",
    "    if selector == 0:    \n",
    "        print(\"паліндром\")\n",
    "            \n",
    "    \n",
    "    \n",
    "x = 'aDa'\n",
    "is_palindrom(x)"
   ]
  }
 ],
 "metadata": {
  "kernelspec": {
   "display_name": "Python 3",
   "language": "python",
   "name": "python3"
  },
  "language_info": {
   "codemirror_mode": {
    "name": "ipython",
    "version": 3
   },
   "file_extension": ".py",
   "mimetype": "text/x-python",
   "name": "python",
   "nbconvert_exporter": "python",
   "pygments_lexer": "ipython3",
   "version": "3.10.2"
  }
 },
 "nbformat": 4,
 "nbformat_minor": 2
}
