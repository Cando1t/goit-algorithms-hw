{
  "nbformat": 4,
  "nbformat_minor": 0,
  "metadata": {
    "colab": {
      "provenance": []
    },
    "kernelspec": {
      "name": "python3",
      "display_name": "Python 3"
    },
    "language_info": {
      "name": "python"
    }
  },
  "cells": [
    {
      "cell_type": "code",
      "source": [
        "!pip install pulp\n"
      ],
      "metadata": {
        "colab": {
          "base_uri": "https://localhost:8080/"
        },
        "id": "XY2LaXISV63F",
        "outputId": "9699abc4-e7d0-4186-9112-1e99a29becfe"
      },
      "execution_count": 5,
      "outputs": [
        {
          "output_type": "stream",
          "name": "stdout",
          "text": [
            "Requirement already satisfied: pulp in /usr/local/lib/python3.10/dist-packages (2.9.0)\n"
          ]
        }
      ]
    },
    {
      "cell_type": "code",
      "execution_count": 7,
      "metadata": {
        "colab": {
          "base_uri": "https://localhost:8080/"
        },
        "id": "8NEe8gQjT8HP",
        "outputId": "f807a1bb-04cd-48f9-886f-d6914ae20c12"
      },
      "outputs": [
        {
          "output_type": "stream",
          "name": "stdout",
          "text": [
            "Виробляти лимонаду: 30.0\n",
            "Виробляти фруктового соку: 20.0\n"
          ]
        }
      ],
      "source": [
        "import pulp\n",
        "\n",
        "# Ініціалізація моделі\n",
        "model = pulp.LpProblem(\"Maximize_Product\", pulp.LpMaximize)\n",
        "\n",
        "# Визначення змінних\n",
        "A = pulp.LpVariable('A', lowBound=0, cat='Integer')  # Кількість продукту А\n",
        "B = pulp.LpVariable('B', lowBound=0, cat='Integer')  # Кількість продукту Б\n",
        "\n",
        "# Функція цілі (Максимізація виробництва)\n",
        "model += A + B, \"Profit\"\n",
        "\n",
        "# Додавання обмежень\n",
        "model += 2 * A + B <= 100  # Обмеження для води\n",
        "model += A  <= 50  # Обмеження для цукру\n",
        "model += A <= 30 # Обмеження для лимонного соку\n",
        "model += 2 * B <= 40 # Обмеження для фруктового соку\n",
        "\n",
        "# Розв'язання моделі\n",
        "model.solve()\n",
        "\n",
        "# Вивід результатів\n",
        "print(\"Виробляти лимонаду:\", A.varValue)\n",
        "print(\"Виробляти фруктового соку:\", B.varValue)"
      ]
    }
  ]
}